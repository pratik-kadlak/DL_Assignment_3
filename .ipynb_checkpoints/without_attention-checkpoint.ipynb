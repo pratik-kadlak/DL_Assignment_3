{
 "cells": [
  {
   "cell_type": "code",
   "execution_count": null,
   "id": "b867c24f",
   "metadata": {},
   "outputs": [],
   "source": [
    "import numpy as np\n",
    "import pandas as pd\n",
    "\n",
    "import random\n",
    "import torch\n",
    "import torch.nn as nn\n",
    "from torch import optim\n",
    "import torch.nn.functional as F\n",
    "\n",
    "device = torch.device(\"cuda\" if torch.cuda.is_available() else \"cpu\")"
   ]
  },
  {
   "cell_type": "code",
   "execution_count": null,
   "id": "c767a40e",
   "metadata": {},
   "outputs": [],
   "source": [
    "# File paths\n",
    "train_file = '/kaggle/input/aksharantar/aksharantar_sampled/mar/mar_train.csv'\n",
    "test_file = '/kaggle/input/aksharantar/aksharantar_sampled/mar/mar_test.csv'\n",
    "val_file = '/kaggle/input/aksharantar/aksharantar_sampled/mar/mar_valid.csv'\n",
    "\n",
    "# Read data\n",
    "train_data = pd.read_csv(train_file, header=None)\n",
    "test_data = pd.read_csv(test_file, header=None)\n",
    "val_data = pd.read_csv(val_file, header=None)\n",
    "\n",
    "# Split into English and Marathi words\n",
    "english_train = train_data.iloc[:, 0]\n",
    "marathi_train = train_data.iloc[:, 1]\n",
    "\n",
    "english_test = test_data.iloc[:, 0]\n",
    "marathi_test = test_data.iloc[:, 1]\n",
    "\n",
    "english_val = val_data.iloc[:, 0]\n",
    "marathi_val = val_data.iloc[:, 1]"
   ]
  },
  {
   "cell_type": "code",
   "execution_count": null,
   "id": "8316d326",
   "metadata": {},
   "outputs": [],
   "source": [
    "def create_char_list(words):\n",
    "    char_list = []\n",
    "    max_length_word = -1\n",
    "    for word in words:\n",
    "        max_length_word = max(max_length_word, len(word))\n",
    "        for char in word:\n",
    "            char_list.append(char)\n",
    "    char_list = list(set(char_list))\n",
    "    char_list.sort()\n",
    "    return char_list, max_length_word\n",
    "\n",
    "def find_max_length(words_list):\n",
    "    max_length = -1\n",
    "    for words in words_list:\n",
    "        for word in words:\n",
    "            max_length = max(max_length, len(word))\n",
    "    return max_length\n",
    "\n",
    "# Create character lists and find maximum word lengths\n",
    "english_chars, english_max_len = create_char_list(english_train)\n",
    "marathi_chars, marathi_max_len = create_char_list(marathi_train)\n",
    "\n",
    "# Find maximum word lengths from validation and test data\n",
    "english_max_len = max(find_max_length(english_val), find_max_length(english_test), english_max_len)\n",
    "marathi_max_len = max(find_max_length(marathi_val), find_max_length(marathi_test), marathi_max_len)"
   ]
  },
  {
   "cell_type": "code",
   "execution_count": null,
   "id": "be96ef29",
   "metadata": {},
   "outputs": [],
   "source": [
    "def word_to_vector(word, language):\n",
    "    char_list = english_chars if language == \"english\" else marathi_chars\n",
    "    max_length = english_max_len if language == \"english\" else marathi_max_len\n",
    "\n",
    "    vector = [len(char_list) + 1]  # Start with one for the special token\n",
    "    for char in word:\n",
    "        char_index = char_list.index(char) + 1 if char in char_list else 0\n",
    "        vector.append(char_index)\n",
    "\n",
    "    # Pad the vector with zeros to match the maximum word length\n",
    "    while len(vector) < max_length + 1:\n",
    "        vector.append(0)\n",
    "\n",
    "    vector.append(0)  # Add an extra zero at the end\n",
    "\n",
    "    return vector\n",
    "\n",
    "# Example usage:\n",
    "english_word = \"example\"\n",
    "english_vector = word_to_vector(english_word, \"english\")\n",
    "marathi_word = \"उदाहरण\"\n",
    "marathi_vector = word_to_vector(marathi_word, \"marathi\")"
   ]
  },
  {
   "cell_type": "code",
   "execution_count": null,
   "id": "3f0b10dd",
   "metadata": {},
   "outputs": [],
   "source": [
    "def word_matrix(words, language):\n",
    "    matrix = []\n",
    "    char_list = english_chars if language == \"english\" else marathi_chars\n",
    "    max_length = english_max_len if language == \"english\" else marathi_max_len\n",
    "\n",
    "    for word in words:\n",
    "        vector = word_to_vector(words, language)\n",
    "        matrix.append(vector)\n",
    "\n",
    "    return matrix"
   ]
  },
  {
   "cell_type": "code",
   "execution_count": null,
   "id": "eabdc319",
   "metadata": {},
   "outputs": [],
   "source": [
    "# Calculate representations of Training English and Marathi words\n",
    "english_word_representations = word_matrix(english_train, \"english\")\n",
    "marathi_word_representations = word_matrix(marathi_train, \"marathi\")\n",
    "\n",
    "# Convert to PyTorch tensors\n",
    "english_matrix = torch.tensor(english_word_representations)\n",
    "marathi_matrix = torch.tensor(marathi_word_representations)\n",
    "\n",
    "# Calculate representations for validation data\n",
    "english_word_representations_val = word_matrix(english_val, \"english\")\n",
    "marathi_word_representations_val = word_matrix(marathi_val, \"marathi\")\n",
    "\n",
    "# Convert to PyTorch tensors\n",
    "english_matrix_val = torch.tensor(english_word_representations_val)\n",
    "marathi_matrix_val = torch.tensor(marathi_word_representations_val)\n",
    "\n",
    "# Calculate representations for test data\n",
    "english_word_representations_test = word_matrix(english_test, \"english\")\n",
    "marathi_word_representations_test = word_matrix(marathi_test, \"marathi\")\n",
    "\n",
    "# Convert to PyTorch tensors\n",
    "english_matrix_test = torch.tensor(english_word_representations_test)\n",
    "marathi_matrix_test = torch.tensor(marathi_word_representations_test)"
   ]
  },
  {
   "cell_type": "code",
   "execution_count": null,
   "id": "21abf340",
   "metadata": {},
   "outputs": [],
   "source": []
  },
  {
   "cell_type": "code",
   "execution_count": null,
   "id": "c08ee710",
   "metadata": {},
   "outputs": [],
   "source": []
  }
 ],
 "metadata": {
  "kernelspec": {
   "display_name": "Python 3 (ipykernel)",
   "language": "python",
   "name": "python3"
  },
  "language_info": {
   "codemirror_mode": {
    "name": "ipython",
    "version": 3
   },
   "file_extension": ".py",
   "mimetype": "text/x-python",
   "name": "python",
   "nbconvert_exporter": "python",
   "pygments_lexer": "ipython3",
   "version": "3.11.5"
  }
 },
 "nbformat": 4,
 "nbformat_minor": 5
}
